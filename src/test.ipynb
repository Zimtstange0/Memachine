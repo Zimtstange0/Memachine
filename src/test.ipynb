{
 "cells": [
  {
   "cell_type": "code",
   "execution_count": 1,
   "metadata": {},
   "outputs": [
    {
     "name": "stdout",
     "output_type": "stream",
     "text": [
      "current CWD: c:\\MT\\00_Scripts\\repos\\udacity_course\\Memachine\\src\n",
      "whoop\n",
      "whoop\n"
     ]
    }
   ],
   "source": [
    "import random\n",
    "import os\n",
    "import requests\n",
    "from flask import Flask, render_template, abort, request\n",
    "from QuoteEngine.ingestor import Ingestor \n",
    "from MemeGenerator.MemeGenerator import MemeEngine\n",
    "\n",
    "\n",
    "def setup():\n",
    "    \"\"\" Load all resources \"\"\"\n",
    "\n",
    "    #quote_files = ['./_data/DogQuotes/DogQuotesTXT.txt',\n",
    "    #               './_data/DogQuotes/DogQuotesDOCX.docx',\n",
    "    #               './_data/DogQuotes/DogQuotesPDF.pdf',\n",
    "    #               './_data/DogQuotes/DogQuotesCSV.csv']\n",
    "    quote_files = [r'C:\\MT\\00_Scripts\\repos\\udacity_course\\Memachine\\src\\_data\\DogQuotes\\DogQuotesTXT.txt']\n",
    "\n",
    "    # TODO: Use the Ingestor class to parse all files in the\n",
    "    # quote_files variable\n",
    "    quotes = Ingestor.parse(quote_files[0])\n",
    "    \n",
    "    print('current CWD: ' + os.getcwd())\n",
    "    images_path = \"./_data/photos/dog/\"\n",
    "    \n",
    "    # TODO: Use the pythons standard library os class to find all\n",
    "    # images within the images images_path directory\n",
    "    imgs = []\n",
    "    for root, dirs, files in os.walk(images_path ):\n",
    "        imgs = [os.path.join(root, name) for name in files]\n",
    "\n",
    "    return quotes, imgs\n",
    "\n",
    "quotes, imgs = setup()\n",
    "print('whoop')\n",
    "print('whoop')\n"
   ]
  },
  {
   "cell_type": "code",
   "execution_count": null,
   "metadata": {},
   "outputs": [],
   "source": []
  }
 ],
 "metadata": {
  "kernelspec": {
   "display_name": "Python 3.8.12 ('ikenviro38')",
   "language": "python",
   "name": "python3"
  },
  "language_info": {
   "codemirror_mode": {
    "name": "ipython",
    "version": 3
   },
   "file_extension": ".py",
   "mimetype": "text/x-python",
   "name": "python",
   "nbconvert_exporter": "python",
   "pygments_lexer": "ipython3",
   "version": "3.8.12"
  },
  "orig_nbformat": 4,
  "vscode": {
   "interpreter": {
    "hash": "973c77b72039e0d1660aa6513c1dfd6487a184c364238f15d738e68e5c6171c0"
   }
  }
 },
 "nbformat": 4,
 "nbformat_minor": 2
}
